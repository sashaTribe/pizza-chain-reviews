{
 "cells": [
  {
   "cell_type": "code",
   "execution_count": 2,
   "metadata": {},
   "outputs": [],
   "source": [
    "import pandas as pd\n",
    "import matplotlib.pyplot as plt\n"
   ]
  },
  {
   "cell_type": "markdown",
   "metadata": {},
   "source": [
    "Load Data from csv to data frame"
   ]
  },
  {
   "cell_type": "code",
   "execution_count": 3,
   "metadata": {},
   "outputs": [
    {
     "data": {
      "text/html": [
       "<div>\n",
       "<style scoped>\n",
       "    .dataframe tbody tr th:only-of-type {\n",
       "        vertical-align: middle;\n",
       "    }\n",
       "\n",
       "    .dataframe tbody tr th {\n",
       "        vertical-align: top;\n",
       "    }\n",
       "\n",
       "    .dataframe thead th {\n",
       "        text-align: right;\n",
       "    }\n",
       "</style>\n",
       "<table border=\"1\" class=\"dataframe\">\n",
       "  <thead>\n",
       "    <tr style=\"text-align: right;\">\n",
       "      <th></th>\n",
       "      <th>Unnamed: 0</th>\n",
       "      <th>Company Name</th>\n",
       "      <th>Title of Review</th>\n",
       "      <th>Review Description</th>\n",
       "      <th>Date of Review</th>\n",
       "      <th>No. of stars</th>\n",
       "    </tr>\n",
       "  </thead>\n",
       "  <tbody>\n",
       "    <tr>\n",
       "      <th>0</th>\n",
       "      <td>0</td>\n",
       "      <td>Prezzo</td>\n",
       "      <td>Prezzo Lakeside …</td>\n",
       "      <td>Prezzo Lakeside 3 of us had chicken Alfredo th...</td>\n",
       "      <td>Oct 24, 2023</td>\n",
       "      <td>Rated 1 out of 5 stars</td>\n",
       "    </tr>\n",
       "    <tr>\n",
       "      <th>1</th>\n",
       "      <td>1</td>\n",
       "      <td>Prezzo</td>\n",
       "      <td>Shameful Customer Service - Prezzo @ The Light...</td>\n",
       "      <td>Well we thought what would be nicer than a fin...</td>\n",
       "      <td>Oct 17, 2023</td>\n",
       "      <td>Rated 1 out of 5 stars</td>\n",
       "    </tr>\n",
       "    <tr>\n",
       "      <th>2</th>\n",
       "      <td>2</td>\n",
       "      <td>Prezzo</td>\n",
       "      <td>Had a meal at Prezzo in Bath</td>\n",
       "      <td>Had a meal at Prezzo in Bath. There was six of...</td>\n",
       "      <td>Oct 20, 2023</td>\n",
       "      <td>Rated 3 out of 5 stars</td>\n",
       "    </tr>\n",
       "    <tr>\n",
       "      <th>3</th>\n",
       "      <td>3</td>\n",
       "      <td>Prezzo</td>\n",
       "      <td>Manager of Broughton restaurant was so…</td>\n",
       "      <td>Manager of Broughton restaurant was so rude wh...</td>\n",
       "      <td>Oct 5, 2023</td>\n",
       "      <td>Rated 1 out of 5 stars</td>\n",
       "    </tr>\n",
       "    <tr>\n",
       "      <th>4</th>\n",
       "      <td>4</td>\n",
       "      <td>Prezzo</td>\n",
       "      <td>Poor food quality</td>\n",
       "      <td>We paid £60   For a meal that was very poor an...</td>\n",
       "      <td>Updated Sep 23, 2023</td>\n",
       "      <td>Rated 1 out of 5 stars</td>\n",
       "    </tr>\n",
       "    <tr>\n",
       "      <th>5</th>\n",
       "      <td>5</td>\n",
       "      <td>Prezzo</td>\n",
       "      <td>Cambridge Prezzo Appalling</td>\n",
       "      <td>Forgotten about once seated. During order, wai...</td>\n",
       "      <td>Sep 7, 2023</td>\n",
       "      <td>Rated 1 out of 5 stars</td>\n",
       "    </tr>\n",
       "    <tr>\n",
       "      <th>6</th>\n",
       "      <td>6</td>\n",
       "      <td>Prezzo</td>\n",
       "      <td>Surprised that thus restaurant is…</td>\n",
       "      <td>Surprised that thus restaurant is opened in ce...</td>\n",
       "      <td>Oct 3, 2023</td>\n",
       "      <td>Rated 2 out of 5 stars</td>\n",
       "    </tr>\n",
       "    <tr>\n",
       "      <th>7</th>\n",
       "      <td>7</td>\n",
       "      <td>Prezzo</td>\n",
       "      <td>Chelmsford restaurant</td>\n",
       "      <td>Chelmsford restaurant. Waitress miserable, rat...</td>\n",
       "      <td>Aug 18, 2023</td>\n",
       "      <td>Rated 1 out of 5 stars</td>\n",
       "    </tr>\n",
       "    <tr>\n",
       "      <th>8</th>\n",
       "      <td>8</td>\n",
       "      <td>Prezzo</td>\n",
       "      <td>Can not fault prezzo</td>\n",
       "      <td>Can not fault prezzo. The staff are amazing. S...</td>\n",
       "      <td>Sep 15, 2023</td>\n",
       "      <td>NaN</td>\n",
       "    </tr>\n",
       "    <tr>\n",
       "      <th>9</th>\n",
       "      <td>9</td>\n",
       "      <td>Prezzo</td>\n",
       "      <td>Popped into Prezzo - fabulous server!</td>\n",
       "      <td>Popped into Prezzo,  Lakeside to redeem a Birt...</td>\n",
       "      <td>Apr 15, 2023</td>\n",
       "      <td>Rated 5 out of 5 stars</td>\n",
       "    </tr>\n",
       "  </tbody>\n",
       "</table>\n",
       "</div>"
      ],
      "text/plain": [
       "   Unnamed: 0 Company Name                                    Title of Review  \\\n",
       "0           0       Prezzo                                  Prezzo Lakeside …   \n",
       "1           1       Prezzo  Shameful Customer Service - Prezzo @ The Light...   \n",
       "2           2       Prezzo                       Had a meal at Prezzo in Bath   \n",
       "3           3       Prezzo            Manager of Broughton restaurant was so…   \n",
       "4           4       Prezzo                                  Poor food quality   \n",
       "5           5       Prezzo                         Cambridge Prezzo Appalling   \n",
       "6           6       Prezzo                 Surprised that thus restaurant is…   \n",
       "7           7       Prezzo                              Chelmsford restaurant   \n",
       "8           8       Prezzo                               Can not fault prezzo   \n",
       "9           9       Prezzo              Popped into Prezzo - fabulous server!   \n",
       "\n",
       "                                  Review Description        Date of Review  \\\n",
       "0  Prezzo Lakeside 3 of us had chicken Alfredo th...          Oct 24, 2023   \n",
       "1  Well we thought what would be nicer than a fin...          Oct 17, 2023   \n",
       "2  Had a meal at Prezzo in Bath. There was six of...          Oct 20, 2023   \n",
       "3  Manager of Broughton restaurant was so rude wh...           Oct 5, 2023   \n",
       "4  We paid £60   For a meal that was very poor an...  Updated Sep 23, 2023   \n",
       "5  Forgotten about once seated. During order, wai...           Sep 7, 2023   \n",
       "6  Surprised that thus restaurant is opened in ce...           Oct 3, 2023   \n",
       "7  Chelmsford restaurant. Waitress miserable, rat...          Aug 18, 2023   \n",
       "8  Can not fault prezzo. The staff are amazing. S...          Sep 15, 2023   \n",
       "9  Popped into Prezzo,  Lakeside to redeem a Birt...          Apr 15, 2023   \n",
       "\n",
       "             No. of stars  \n",
       "0  Rated 1 out of 5 stars  \n",
       "1  Rated 1 out of 5 stars  \n",
       "2  Rated 3 out of 5 stars  \n",
       "3  Rated 1 out of 5 stars  \n",
       "4  Rated 1 out of 5 stars  \n",
       "5  Rated 1 out of 5 stars  \n",
       "6  Rated 2 out of 5 stars  \n",
       "7  Rated 1 out of 5 stars  \n",
       "8                     NaN  \n",
       "9  Rated 5 out of 5 stars  "
      ]
     },
     "execution_count": 3,
     "metadata": {},
     "output_type": "execute_result"
    }
   ],
   "source": [
    "prezzo_data = pd.read_csv('prezzo_df.csv', encoding='utf-8')\n",
    "prezzo_data.head(10)\n"
   ]
  },
  {
   "cell_type": "markdown",
   "metadata": {},
   "source": [
    "Data Inspection, finding out if there are any nulls, what data types each row is and the data frame's shape"
   ]
  },
  {
   "cell_type": "code",
   "execution_count": 6,
   "metadata": {},
   "outputs": [
    {
     "name": "stdout",
     "output_type": "stream",
     "text": [
      "How many null values for each column: \n",
      "Unnamed: 0             0\n",
      "Company Name           0\n",
      "Title of Review        0\n",
      "Review Description     0\n",
      "Date of Review         0\n",
      "No. of stars          39\n",
      "dtype: int64\n",
      "Data Types of each field: \n",
      "Unnamed: 0             int64\n",
      "Company Name          object\n",
      "Title of Review       object\n",
      "Review Description    object\n",
      "Date of Review        object\n",
      "No. of stars          object\n",
      "dtype: object\n",
      "The shape of the dataframe in form of (no. of columns,no.of rows): \n",
      "(220, 6)\n"
     ]
    }
   ],
   "source": [
    "def inspect_df_data(df):\n",
    "    print(\"How many null values for each column: \")\n",
    "    print(df.isna().sum())\n",
    "    print(\"Data Types of each field: \")\n",
    "    print(df.dtypes)\n",
    "    print(\"The shape of the dataframe in form of (no. of columns,no.of rows): \")\n",
    "    print(df.shape)\n",
    "\n",
    "inspect_df_data(prezzo_data)"
   ]
  },
  {
   "cell_type": "markdown",
   "metadata": {},
   "source": [
    "Removes any duplicates from the Data Frame"
   ]
  },
  {
   "cell_type": "code",
   "execution_count": 7,
   "metadata": {},
   "outputs": [
    {
     "name": "stdout",
     "output_type": "stream",
     "text": [
      "Before removing duplicates: \n",
      "(220, 6)\n",
      "After Removing duplicates\n",
      "(220, 6)\n"
     ]
    }
   ],
   "source": [
    "def remove_duplicates(df):\n",
    "    print(\"Before removing duplicates: \")\n",
    "    print(df.shape)\n",
    "    df.drop_duplicates()\n",
    "    print(\"After Removing duplicates\")\n",
    "    print(df.shape)\n",
    "\n",
    "remove_duplicates(prezzo_data)"
   ]
  },
  {
   "cell_type": "markdown",
   "metadata": {},
   "source": [
    "Drop any records with nulls in any of their cells"
   ]
  },
  {
   "cell_type": "code",
   "execution_count": 13,
   "metadata": {},
   "outputs": [
    {
     "name": "stdout",
     "output_type": "stream",
     "text": [
      "(220, 6)\n",
      "(181, 6)\n"
     ]
    }
   ],
   "source": [
    "def drop_nulls(df):\n",
    "    print(df.shape)\n",
    "    df.dropna(inplace=True)\n",
    "    print(df.shape)\n",
    "\n",
    "drop_nulls(prezzo_data)"
   ]
  },
  {
   "cell_type": "markdown",
   "metadata": {},
   "source": [
    "Built a distribution graph to show case the distribution of words throughout all reviews"
   ]
  },
  {
   "cell_type": "code",
   "execution_count": 20,
   "metadata": {},
   "outputs": [
    {
     "data": {
      "image/png": "[encoded data removed]",
      "text/plain": [
       "<Figure size 640x480 with 1 Axes>"
      ]
     },
     "metadata": {},
     "output_type": "display_data"
    }
   ],
   "source": [
    "def build_distribution_graph(df):\n",
    "    df['word_count'] = df['Review Description'].apply(lambda x: len(x.split()))\n",
    "    plt.hist(df['word_count'], bins=20, edgecolor='k')\n",
    "    plt.title('Distribution of Word Counts')\n",
    "    plt.xlabel('Number of Words')\n",
    "    plt.ylabel('Number of reviews')\n",
    "    plt.show()\n",
    "\n",
    "build_distribution_graph(prezzo_data)\n"
   ]
  },
  {
   "cell_type": "markdown",
   "metadata": {},
   "source": [
    "This helps me to see if there are any outliers and where most of the documents are in terms of word count."
   ]
  },
  {
   "cell_type": "code",
   "execution_count": 24,
   "metadata": {},
   "outputs": [
    {
     "data": {
      "text/html": [
       "<div>\n",
       "<style scoped>\n",
       "    .dataframe tbody tr th:only-of-type {\n",
       "        vertical-align: middle;\n",
       "    }\n",
       "\n",
       "    .dataframe tbody tr th {\n",
       "        vertical-align: top;\n",
       "    }\n",
       "\n",
       "    .dataframe thead th {\n",
       "        text-align: right;\n",
       "    }\n",
       "</style>\n",
       "<table border=\"1\" class=\"dataframe\">\n",
       "  <thead>\n",
       "    <tr style=\"text-align: right;\">\n",
       "      <th></th>\n",
       "      <th>Unnamed: 0</th>\n",
       "      <th>word_count</th>\n",
       "    </tr>\n",
       "  </thead>\n",
       "  <tbody>\n",
       "    <tr>\n",
       "      <th>count</th>\n",
       "      <td>181.000000</td>\n",
       "      <td>181.000000</td>\n",
       "    </tr>\n",
       "    <tr>\n",
       "      <th>mean</th>\n",
       "      <td>111.707182</td>\n",
       "      <td>80.160221</td>\n",
       "    </tr>\n",
       "    <tr>\n",
       "      <th>std</th>\n",
       "      <td>65.561061</td>\n",
       "      <td>71.705120</td>\n",
       "    </tr>\n",
       "    <tr>\n",
       "      <th>min</th>\n",
       "      <td>0.000000</td>\n",
       "      <td>6.000000</td>\n",
       "    </tr>\n",
       "    <tr>\n",
       "      <th>25%</th>\n",
       "      <td>53.000000</td>\n",
       "      <td>29.000000</td>\n",
       "    </tr>\n",
       "    <tr>\n",
       "      <th>50%</th>\n",
       "      <td>115.000000</td>\n",
       "      <td>61.000000</td>\n",
       "    </tr>\n",
       "    <tr>\n",
       "      <th>75%</th>\n",
       "      <td>170.000000</td>\n",
       "      <td>97.000000</td>\n",
       "    </tr>\n",
       "    <tr>\n",
       "      <th>max</th>\n",
       "      <td>219.000000</td>\n",
       "      <td>367.000000</td>\n",
       "    </tr>\n",
       "  </tbody>\n",
       "</table>\n",
       "</div>"
      ],
      "text/plain": [
       "       Unnamed: 0  word_count\n",
       "count  181.000000  181.000000\n",
       "mean   111.707182   80.160221\n",
       "std     65.561061   71.705120\n",
       "min      0.000000    6.000000\n",
       "25%     53.000000   29.000000\n",
       "50%    115.000000   61.000000\n",
       "75%    170.000000   97.000000\n",
       "max    219.000000  367.000000"
      ]
     },
     "execution_count": 24,
     "metadata": {},
     "output_type": "execute_result"
    }
   ],
   "source": [
    "prezzo_data.describe()"
   ]
  },
  {
   "cell_type": "code",
   "execution_count": 27,
   "metadata": {},
   "outputs": [
    {
     "name": "stdout",
     "output_type": "stream",
     "text": [
      "Unnamed: 0             int64\n",
      "Company Name          object\n",
      "Title of Review       object\n",
      "Review Description    object\n",
      "Date of Review        object\n",
      "No. of stars          object\n",
      "word_count             int64\n",
      "dtype: object\n"
     ]
    },
    {
     "data": {
      "text/html": [
       "<div>\n",
       "<style scoped>\n",
       "    .dataframe tbody tr th:only-of-type {\n",
       "        vertical-align: middle;\n",
       "    }\n",
       "\n",
       "    .dataframe tbody tr th {\n",
       "        vertical-align: top;\n",
       "    }\n",
       "\n",
       "    .dataframe thead th {\n",
       "        text-align: right;\n",
       "    }\n",
       "</style>\n",
       "<table border=\"1\" class=\"dataframe\">\n",
       "  <thead>\n",
       "    <tr style=\"text-align: right;\">\n",
       "      <th></th>\n",
       "      <th>Unnamed: 0</th>\n",
       "      <th>Company Name</th>\n",
       "      <th>Title of Review</th>\n",
       "      <th>Review Description</th>\n",
       "      <th>Date of Review</th>\n",
       "      <th>No. of stars</th>\n",
       "      <th>word_count</th>\n",
       "    </tr>\n",
       "  </thead>\n",
       "  <tbody>\n",
       "    <tr>\n",
       "      <th>0</th>\n",
       "      <td>0</td>\n",
       "      <td>Prezzo</td>\n",
       "      <td>Prezzo Lakeside …</td>\n",
       "      <td>Prezzo Lakeside 3 of us had chicken Alfredo th...</td>\n",
       "      <td>Oct 24, 2023</td>\n",
       "      <td>Rated 1 out of 5 stars</td>\n",
       "      <td>26</td>\n",
       "    </tr>\n",
       "    <tr>\n",
       "      <th>1</th>\n",
       "      <td>1</td>\n",
       "      <td>Prezzo</td>\n",
       "      <td>Shameful Customer Service - Prezzo @ The Light...</td>\n",
       "      <td>Well we thought what would be nicer than a fin...</td>\n",
       "      <td>Oct 17, 2023</td>\n",
       "      <td>Rated 1 out of 5 stars</td>\n",
       "      <td>130</td>\n",
       "    </tr>\n",
       "    <tr>\n",
       "      <th>2</th>\n",
       "      <td>2</td>\n",
       "      <td>Prezzo</td>\n",
       "      <td>Had a meal at Prezzo in Bath</td>\n",
       "      <td>Had a meal at Prezzo in Bath. There was six of...</td>\n",
       "      <td>Oct 20, 2023</td>\n",
       "      <td>Rated 3 out of 5 stars</td>\n",
       "      <td>82</td>\n",
       "    </tr>\n",
       "    <tr>\n",
       "      <th>3</th>\n",
       "      <td>3</td>\n",
       "      <td>Prezzo</td>\n",
       "      <td>Manager of Broughton restaurant was so…</td>\n",
       "      <td>Manager of Broughton restaurant was so rude wh...</td>\n",
       "      <td>Oct 5, 2023</td>\n",
       "      <td>Rated 1 out of 5 stars</td>\n",
       "      <td>61</td>\n",
       "    </tr>\n",
       "    <tr>\n",
       "      <th>4</th>\n",
       "      <td>4</td>\n",
       "      <td>Prezzo</td>\n",
       "      <td>Poor food quality</td>\n",
       "      <td>We paid £60   For a meal that was very poor an...</td>\n",
       "      <td>Updated Sep 23, 2023</td>\n",
       "      <td>Rated 1 out of 5 stars</td>\n",
       "      <td>84</td>\n",
       "    </tr>\n",
       "    <tr>\n",
       "      <th>5</th>\n",
       "      <td>5</td>\n",
       "      <td>Prezzo</td>\n",
       "      <td>Cambridge Prezzo Appalling</td>\n",
       "      <td>Forgotten about once seated. During order, wai...</td>\n",
       "      <td>Sep 7, 2023</td>\n",
       "      <td>Rated 1 out of 5 stars</td>\n",
       "      <td>88</td>\n",
       "    </tr>\n",
       "    <tr>\n",
       "      <th>6</th>\n",
       "      <td>6</td>\n",
       "      <td>Prezzo</td>\n",
       "      <td>Surprised that thus restaurant is…</td>\n",
       "      <td>Surprised that thus restaurant is opened in ce...</td>\n",
       "      <td>Oct 3, 2023</td>\n",
       "      <td>Rated 2 out of 5 stars</td>\n",
       "      <td>32</td>\n",
       "    </tr>\n",
       "    <tr>\n",
       "      <th>7</th>\n",
       "      <td>7</td>\n",
       "      <td>Prezzo</td>\n",
       "      <td>Chelmsford restaurant</td>\n",
       "      <td>Chelmsford restaurant. Waitress miserable, rat...</td>\n",
       "      <td>Aug 18, 2023</td>\n",
       "      <td>Rated 1 out of 5 stars</td>\n",
       "      <td>38</td>\n",
       "    </tr>\n",
       "    <tr>\n",
       "      <th>9</th>\n",
       "      <td>9</td>\n",
       "      <td>Prezzo</td>\n",
       "      <td>Popped into Prezzo - fabulous server!</td>\n",
       "      <td>Popped into Prezzo,  Lakeside to redeem a Birt...</td>\n",
       "      <td>Apr 15, 2023</td>\n",
       "      <td>Rated 5 out of 5 stars</td>\n",
       "      <td>60</td>\n",
       "    </tr>\n",
       "    <tr>\n",
       "      <th>10</th>\n",
       "      <td>10</td>\n",
       "      <td>Prezzo</td>\n",
       "      <td>Not selling advertised pizza.(Haverhill Prezzo).</td>\n",
       "      <td>Sent my husband for a take away pizza (Haverhi...</td>\n",
       "      <td>Updated Jul 7, 2023</td>\n",
       "      <td>Rated 1 out of 5 stars</td>\n",
       "      <td>73</td>\n",
       "    </tr>\n",
       "  </tbody>\n",
       "</table>\n",
       "</div>"
      ],
      "text/plain": [
       "    Unnamed: 0 Company Name  \\\n",
       "0            0       Prezzo   \n",
       "1            1       Prezzo   \n",
       "2            2       Prezzo   \n",
       "3            3       Prezzo   \n",
       "4            4       Prezzo   \n",
       "5            5       Prezzo   \n",
       "6            6       Prezzo   \n",
       "7            7       Prezzo   \n",
       "9            9       Prezzo   \n",
       "10          10       Prezzo   \n",
       "\n",
       "                                      Title of Review  \\\n",
       "0                                   Prezzo Lakeside …   \n",
       "1   Shameful Customer Service - Prezzo @ The Light...   \n",
       "2                        Had a meal at Prezzo in Bath   \n",
       "3             Manager of Broughton restaurant was so…   \n",
       "4                                   Poor food quality   \n",
       "5                          Cambridge Prezzo Appalling   \n",
       "6                  Surprised that thus restaurant is…   \n",
       "7                               Chelmsford restaurant   \n",
       "9               Popped into Prezzo - fabulous server!   \n",
       "10   Not selling advertised pizza.(Haverhill Prezzo).   \n",
       "\n",
       "                                   Review Description        Date of Review  \\\n",
       "0   Prezzo Lakeside 3 of us had chicken Alfredo th...          Oct 24, 2023   \n",
       "1   Well we thought what would be nicer than a fin...          Oct 17, 2023   \n",
       "2   Had a meal at Prezzo in Bath. There was six of...          Oct 20, 2023   \n",
       "3   Manager of Broughton restaurant was so rude wh...           Oct 5, 2023   \n",
       "4   We paid £60   For a meal that was very poor an...  Updated Sep 23, 2023   \n",
       "5   Forgotten about once seated. During order, wai...           Sep 7, 2023   \n",
       "6   Surprised that thus restaurant is opened in ce...           Oct 3, 2023   \n",
       "7   Chelmsford restaurant. Waitress miserable, rat...          Aug 18, 2023   \n",
       "9   Popped into Prezzo,  Lakeside to redeem a Birt...          Apr 15, 2023   \n",
       "10  Sent my husband for a take away pizza (Haverhi...   Updated Jul 7, 2023   \n",
       "\n",
       "              No. of stars  word_count  \n",
       "0   Rated 1 out of 5 stars          26  \n",
       "1   Rated 1 out of 5 stars         130  \n",
       "2   Rated 3 out of 5 stars          82  \n",
       "3   Rated 1 out of 5 stars          61  \n",
       "4   Rated 1 out of 5 stars          84  \n",
       "5   Rated 1 out of 5 stars          88  \n",
       "6   Rated 2 out of 5 stars          32  \n",
       "7   Rated 1 out of 5 stars          38  \n",
       "9   Rated 5 out of 5 stars          60  \n",
       "10  Rated 1 out of 5 stars          73  "
      ]
     },
     "execution_count": 27,
     "metadata": {},
     "output_type": "execute_result"
    }
   ],
   "source": [
    "def convert_df_to_string(df):\n",
    "    df['Company Name'] = df['Company Name'].astype(str)\n",
    "    df['Title of Review'] = df['Title of Review'].astype(str)\n",
    "    df['Review Description'] = df['Review Description'].astype(str)\n",
    "    print(df.dtypes)\n",
    "\n",
    "convert_df_to_string(prezzo_data)\n",
    "prezzo_data.head(10)"
   ]
  },
  {
   "cell_type": "markdown",
   "metadata": {},
   "source": [
    "I make a method to change all text to lower case for faster model processing as I would like the model to recognise particular words as the same in upper case and lower case format"
   ]
  },
  {
   "cell_type": "code",
   "execution_count": 28,
   "metadata": {},
   "outputs": [
    {
     "name": "stdout",
     "output_type": "stream",
     "text": [
      "hi i am dasdd\n"
     ]
    }
   ],
   "source": [
    "def lower_case_given_text(text):\n",
    "    return text.lower()\n",
    "\n"
   ]
  },
  {
   "cell_type": "markdown",
   "metadata": {},
   "source": [
    "Must apply this method onto the date column so I can convert the column to a date type"
   ]
  },
  {
   "cell_type": "code",
   "execution_count": 56,
   "metadata": {},
   "outputs": [
    {
     "data": {
      "image/png": "[encoded data removed]",
      "text/plain": [
       "<Figure size 640x480 with 1 Axes>"
      ]
     },
     "metadata": {},
     "output_type": "display_data"
    }
   ],
   "source": [
    "plt.hist(prezzo_data['word_count'], bins=20, edgecolor='k')\n",
    "plt.title('Distribution of Word Counts')\n",
    "plt.xlabel('Number of Words')\n",
    "plt.ylabel('Number of reviews')\n",
    "plt.show()\n"
   ]
  },
  {
   "cell_type": "code",
   "execution_count": 57,
   "metadata": {},
   "outputs": [
    {
     "data": {
      "text/html": [
       "<div>\n",
       "<style scoped>\n",
       "    .dataframe tbody tr th:only-of-type {\n",
       "        vertical-align: middle;\n",
       "    }\n",
       "\n",
       "    .dataframe tbody tr th {\n",
       "        vertical-align: top;\n",
       "    }\n",
       "\n",
       "    .dataframe thead th {\n",
       "        text-align: right;\n",
       "    }\n",
       "</style>\n",
       "<table border=\"1\" class=\"dataframe\">\n",
       "  <thead>\n",
       "    <tr style=\"text-align: right;\">\n",
       "      <th></th>\n",
       "      <th>Unnamed: 0</th>\n",
       "      <th>word_count</th>\n",
       "    </tr>\n",
       "  </thead>\n",
       "  <tbody>\n",
       "    <tr>\n",
       "      <th>count</th>\n",
       "      <td>181.000000</td>\n",
       "      <td>181.000000</td>\n",
       "    </tr>\n",
       "    <tr>\n",
       "      <th>mean</th>\n",
       "      <td>111.707182</td>\n",
       "      <td>80.116022</td>\n",
       "    </tr>\n",
       "    <tr>\n",
       "      <th>std</th>\n",
       "      <td>65.561061</td>\n",
       "      <td>71.731698</td>\n",
       "    </tr>\n",
       "    <tr>\n",
       "      <th>min</th>\n",
       "      <td>0.000000</td>\n",
       "      <td>6.000000</td>\n",
       "    </tr>\n",
       "    <tr>\n",
       "      <th>25%</th>\n",
       "      <td>53.000000</td>\n",
       "      <td>29.000000</td>\n",
       "    </tr>\n",
       "    <tr>\n",
       "      <th>50%</th>\n",
       "      <td>115.000000</td>\n",
       "      <td>61.000000</td>\n",
       "    </tr>\n",
       "    <tr>\n",
       "      <th>75%</th>\n",
       "      <td>170.000000</td>\n",
       "      <td>97.000000</td>\n",
       "    </tr>\n",
       "    <tr>\n",
       "      <th>max</th>\n",
       "      <td>219.000000</td>\n",
       "      <td>367.000000</td>\n",
       "    </tr>\n",
       "  </tbody>\n",
       "</table>\n",
       "</div>"
      ],
      "text/plain": [
       "       Unnamed: 0  word_count\n",
       "count  181.000000  181.000000\n",
       "mean   111.707182   80.116022\n",
       "std     65.561061   71.731698\n",
       "min      0.000000    6.000000\n",
       "25%     53.000000   29.000000\n",
       "50%    115.000000   61.000000\n",
       "75%    170.000000   97.000000\n",
       "max    219.000000  367.000000"
      ]
     },
     "execution_count": 57,
     "metadata": {},
     "output_type": "execute_result"
    }
   ],
   "source": [
    "prezzo_data.describe()"
   ]
  },
  {
   "cell_type": "code",
   "execution_count": 80,
   "metadata": {},
   "outputs": [
    {
     "data": {
      "text/html": [
       "<div>\n",
       "<style scoped>\n",
       "    .dataframe tbody tr th:only-of-type {\n",
       "        vertical-align: middle;\n",
       "    }\n",
       "\n",
       "    .dataframe tbody tr th {\n",
       "        vertical-align: top;\n",
       "    }\n",
       "\n",
       "    .dataframe thead th {\n",
       "        text-align: right;\n",
       "    }\n",
       "</style>\n",
       "<table border=\"1\" class=\"dataframe\">\n",
       "  <thead>\n",
       "    <tr style=\"text-align: right;\">\n",
       "      <th></th>\n",
       "      <th>Unnamed: 0</th>\n",
       "      <th>Company Name</th>\n",
       "      <th>Title of Review</th>\n",
       "      <th>Review Description</th>\n",
       "      <th>Date of Review</th>\n",
       "      <th>No. of stars</th>\n",
       "      <th>word_count</th>\n",
       "      <th>Date</th>\n",
       "    </tr>\n",
       "  </thead>\n",
       "  <tbody>\n",
       "    <tr>\n",
       "      <th>0</th>\n",
       "      <td>0</td>\n",
       "      <td>Prezzo</td>\n",
       "      <td>Prezzo Lakeside …</td>\n",
       "      <td>prezzo lakeside 3 of us had chicken alfredo th...</td>\n",
       "      <td>oct 24, 2023</td>\n",
       "      <td>1 star</td>\n",
       "      <td>26</td>\n",
       "      <td>oct 24, 2023</td>\n",
       "    </tr>\n",
       "    <tr>\n",
       "      <th>1</th>\n",
       "      <td>1</td>\n",
       "      <td>Prezzo</td>\n",
       "      <td>Shameful Customer Service - Prezzo @ The Light...</td>\n",
       "      <td>well we thought what would be nicer than a fin...</td>\n",
       "      <td>oct 17, 2023</td>\n",
       "      <td>1 star</td>\n",
       "      <td>130</td>\n",
       "      <td>oct 17, 2023</td>\n",
       "    </tr>\n",
       "    <tr>\n",
       "      <th>2</th>\n",
       "      <td>2</td>\n",
       "      <td>Prezzo</td>\n",
       "      <td>Had a meal at Prezzo in Bath</td>\n",
       "      <td>had a meal at prezzo in bath. there was six of...</td>\n",
       "      <td>oct 20, 2023</td>\n",
       "      <td>3 stars</td>\n",
       "      <td>82</td>\n",
       "      <td>oct 20, 2023</td>\n",
       "    </tr>\n",
       "    <tr>\n",
       "      <th>3</th>\n",
       "      <td>3</td>\n",
       "      <td>Prezzo</td>\n",
       "      <td>Manager of Broughton restaurant was so…</td>\n",
       "      <td>manager of broughton restaurant was so rude wh...</td>\n",
       "      <td>oct 5, 2023</td>\n",
       "      <td>1 star</td>\n",
       "      <td>61</td>\n",
       "      <td>oct 5, 2023</td>\n",
       "    </tr>\n",
       "    <tr>\n",
       "      <th>4</th>\n",
       "      <td>4</td>\n",
       "      <td>Prezzo</td>\n",
       "      <td>Poor food quality</td>\n",
       "      <td>we paid £60   for a meal that was very poor an...</td>\n",
       "      <td>updated sep 23, 2023</td>\n",
       "      <td>1 star</td>\n",
       "      <td>84</td>\n",
       "      <td>sep 23, 2023</td>\n",
       "    </tr>\n",
       "  </tbody>\n",
       "</table>\n",
       "</div>"
      ],
      "text/plain": [
       "   Unnamed: 0 Company Name                                    Title of Review  \\\n",
       "0           0       Prezzo                                  Prezzo Lakeside …   \n",
       "1           1       Prezzo  Shameful Customer Service - Prezzo @ The Light...   \n",
       "2           2       Prezzo                       Had a meal at Prezzo in Bath   \n",
       "3           3       Prezzo            Manager of Broughton restaurant was so…   \n",
       "4           4       Prezzo                                  Poor food quality   \n",
       "\n",
       "                                  Review Description        Date of Review  \\\n",
       "0  prezzo lakeside 3 of us had chicken alfredo th...          oct 24, 2023   \n",
       "1  well we thought what would be nicer than a fin...          oct 17, 2023   \n",
       "2  had a meal at prezzo in bath. there was six of...          oct 20, 2023   \n",
       "3  manager of broughton restaurant was so rude wh...           oct 5, 2023   \n",
       "4  we paid £60   for a meal that was very poor an...  updated sep 23, 2023   \n",
       "\n",
       "  No. of stars  word_count           Date  \n",
       "0       1 star          26   oct 24, 2023  \n",
       "1       1 star         130   oct 17, 2023  \n",
       "2      3 stars          82   oct 20, 2023  \n",
       "3       1 star          61    oct 5, 2023  \n",
       "4       1 star          84   sep 23, 2023  "
      ]
     },
     "execution_count": 80,
     "metadata": {},
     "output_type": "execute_result"
    }
   ],
   "source": [
    "def rename_column(df):\n",
    "    df.rename(columns = {'Unnamed: 0': 'index'})\n",
    "rename_column(prezzo_data)\n",
    "prezzo_data.head()\n"
   ]
  },
  {
   "cell_type": "code",
   "execution_count": 93,
   "metadata": {},
   "outputs": [
    {
     "data": {
      "text/html": [
       "<div>\n",
       "<style scoped>\n",
       "    .dataframe tbody tr th:only-of-type {\n",
       "        vertical-align: middle;\n",
       "    }\n",
       "\n",
       "    .dataframe tbody tr th {\n",
       "        vertical-align: top;\n",
       "    }\n",
       "\n",
       "    .dataframe thead th {\n",
       "        text-align: right;\n",
       "    }\n",
       "</style>\n",
       "<table border=\"1\" class=\"dataframe\">\n",
       "  <thead>\n",
       "    <tr style=\"text-align: right;\">\n",
       "      <th></th>\n",
       "      <th>Review Description</th>\n",
       "      <th>Sentiment Level</th>\n",
       "    </tr>\n",
       "  </thead>\n",
       "  <tbody>\n",
       "    <tr>\n",
       "      <th>0</th>\n",
       "      <td>prezzo lakeside 3 of us had chicken alfredo th...</td>\n",
       "      <td>Negative</td>\n",
       "    </tr>\n",
       "    <tr>\n",
       "      <th>1</th>\n",
       "      <td>well we thought what would be nicer than a fin...</td>\n",
       "      <td>Negative</td>\n",
       "    </tr>\n",
       "    <tr>\n",
       "      <th>2</th>\n",
       "      <td>had a meal at prezzo in bath. there was six of...</td>\n",
       "      <td>Neutral</td>\n",
       "    </tr>\n",
       "    <tr>\n",
       "      <th>3</th>\n",
       "      <td>manager of broughton restaurant was so rude wh...</td>\n",
       "      <td>Negative</td>\n",
       "    </tr>\n",
       "    <tr>\n",
       "      <th>4</th>\n",
       "      <td>we paid £60   for a meal that was very poor an...</td>\n",
       "      <td>Negative</td>\n",
       "    </tr>\n",
       "  </tbody>\n",
       "</table>\n",
       "</div>"
      ],
      "text/plain": [
       "                                  Review Description Sentiment Level\n",
       "0  prezzo lakeside 3 of us had chicken alfredo th...        Negative\n",
       "1  well we thought what would be nicer than a fin...        Negative\n",
       "2  had a meal at prezzo in bath. there was six of...         Neutral\n",
       "3  manager of broughton restaurant was so rude wh...        Negative\n",
       "4  we paid £60   for a meal that was very poor an...        Negative"
      ]
     },
     "execution_count": 93,
     "metadata": {},
     "output_type": "execute_result"
    }
   ],
   "source": [
    "def create_nlp_data(df):\n",
    "    selected_columns = ['Review Description','Sentiment Level']\n",
    "    new_df = df[selected_columns]\n",
    "    return new_df\n",
    "\n",
    "prezzo_nltk_process = create_nlp_data(prezzo_data)\n",
    "prezzo_nltk_process.head()"
   ]
  },
  {
   "cell_type": "markdown",
   "metadata": {},
   "source": [
    "Tokenize Text to prepare for filtering processes"
   ]
  },
  {
   "cell_type": "code",
   "execution_count": 98,
   "metadata": {},
   "outputs": [
    {
     "name": "stdout",
     "output_type": "stream",
     "text": [
      "['Hi', ',', 'I', 'am', 'sasha', 'from', 'germany', '.', 'Nice', 'to', 'meet', 'you', '!']\n"
     ]
    }
   ],
   "source": [
    "from pprint import pprint\n",
    "def tokenize_text(text):\n",
    "    #text = [w for w in text if w.isalpha()]\n",
    "    return nltk.word_tokenize(text)\n",
    "\n",
    "test_sentence = \"Hi, I am sasha from germany. Nice to meet you!\"\n",
    "#pprint(nltk.word_tokenize(test_sentence))\n",
    "test_tokens = tokenize_text(test_sentence) \n",
    "print(test_tokens)"
   ]
  },
  {
   "cell_type": "markdown",
   "metadata": {},
   "source": [
    "Lemmatizing text is the act of minimising words, e.g. minimising \"going\" to \"go\". Other people also do stemming but we are not going to do that in this project as stemming has a big disadvantage of changing the meaning of the word itself."
   ]
  },
  {
   "cell_type": "code",
   "execution_count": 106,
   "metadata": {},
   "outputs": [
    {
     "name": "stderr",
     "output_type": "stream",
     "text": [
      "[nltk_data] Downloading package wordnet to\n",
      "[nltk_data]     C:\\Users\\sasha\\AppData\\Roaming\\nltk_data...\n",
      "[nltk_data]   Package wordnet is already up-to-date!\n",
      "[nltk_data] Downloading package omw-1.4 to\n",
      "[nltk_data]     C:\\Users\\sasha\\AppData\\Roaming\\nltk_data...\n"
     ]
    },
    {
     "name": "stdout",
     "output_type": "stream",
     "text": [
      "['Hello', ',', 'I', 'be', 'go', 'to', 'the', 'shop', 'now']\n"
     ]
    }
   ],
   "source": [
    "import nltk\n",
    "from nltk.stem import WordNetLemmatizer\n",
    "nltk.download('wordnet')\n",
    "nltk.download('omw-1.4')\n",
    "def lemmatize_text(text):\n",
    "    lem_text = [WordNetLemmatizer().lemmatize(i, pos='v') for i in text]\n",
    "    return lem_text\n",
    "test_sentence = \"Hello, I am going to the shops now\"\n",
    "print(lemmatize_text(tokenize_text(test_sentence))) \n",
    "\n",
    "\n"
   ]
  },
  {
   "cell_type": "code",
   "execution_count": 107,
   "metadata": {},
   "outputs": [
    {
     "name": "stderr",
     "output_type": "stream",
     "text": [
      "C:\\Users\\sasha\\AppData\\Local\\Temp\\ipykernel_25828\\123156010.py:1: SettingWithCopyWarning: \n",
      "A value is trying to be set on a copy of a slice from a DataFrame.\n",
      "Try using .loc[row_indexer,col_indexer] = value instead\n",
      "\n",
      "See the caveats in the documentation: https://pandas.pydata.org/pandas-docs/stable/user_guide/indexing.html#returning-a-view-versus-a-copy\n",
      "  prezzo_nltk_process['Review Description'] = prezzo_nltk_process['Review Description'].apply(lemmatize_text)\n"
     ]
    },
    {
     "data": {
      "text/html": [
       "<div>\n",
       "<style scoped>\n",
       "    .dataframe tbody tr th:only-of-type {\n",
       "        vertical-align: middle;\n",
       "    }\n",
       "\n",
       "    .dataframe tbody tr th {\n",
       "        vertical-align: top;\n",
       "    }\n",
       "\n",
       "    .dataframe thead th {\n",
       "        text-align: right;\n",
       "    }\n",
       "</style>\n",
       "<table border=\"1\" class=\"dataframe\">\n",
       "  <thead>\n",
       "    <tr style=\"text-align: right;\">\n",
       "      <th></th>\n",
       "      <th>Review Description</th>\n",
       "      <th>Sentiment Level</th>\n",
       "    </tr>\n",
       "  </thead>\n",
       "  <tbody>\n",
       "    <tr>\n",
       "      <th>0</th>\n",
       "      <td>[prezzo, lakeside, us, chicken, alfredo, whole...</td>\n",
       "      <td>Negative</td>\n",
       "    </tr>\n",
       "    <tr>\n",
       "      <th>1</th>\n",
       "      <td>[well, think, would, nicer, fine, meal, gig, a...</td>\n",
       "      <td>Negative</td>\n",
       "    </tr>\n",
       "    <tr>\n",
       "      <th>2</th>\n",
       "      <td>[meal, prezzo, bath, six, us, marsal, chicken,...</td>\n",
       "      <td>Neutral</td>\n",
       "    </tr>\n",
       "    <tr>\n",
       "      <th>3</th>\n",
       "      <td>[manager, broughton, restaurant, rude, cash, u...</td>\n",
       "      <td>Negative</td>\n",
       "    </tr>\n",
       "    <tr>\n",
       "      <th>4</th>\n",
       "      <td>[pay, meal, poor, substandard, prezzo, burger,...</td>\n",
       "      <td>Negative</td>\n",
       "    </tr>\n",
       "  </tbody>\n",
       "</table>\n",
       "</div>"
      ],
      "text/plain": [
       "                                  Review Description Sentiment Level\n",
       "0  [prezzo, lakeside, us, chicken, alfredo, whole...        Negative\n",
       "1  [well, think, would, nicer, fine, meal, gig, a...        Negative\n",
       "2  [meal, prezzo, bath, six, us, marsal, chicken,...         Neutral\n",
       "3  [manager, broughton, restaurant, rude, cash, u...        Negative\n",
       "4  [pay, meal, poor, substandard, prezzo, burger,...        Negative"
      ]
     },
     "execution_count": 107,
     "metadata": {},
     "output_type": "execute_result"
    }
   ],
   "source": [
    "prezzo_nltk_process['Review Description'] = prezzo_nltk_process['Review Description'].apply(lemmatize_text)\n",
    "prezzo_nltk_process.head()"
   ]
  }
 ],
 "metadata": {
  "kernelspec": {
   "display_name": "Python 3",
   "language": "python",
   "name": "python3"
  },
  "language_info": {
   "codemirror_mode": {
    "name": "ipython",
    "version": 3
   },
   "file_extension": ".py",
   "mimetype": "text/x-python",
   "name": "python",
   "nbconvert_exporter": "python",
   "pygments_lexer": "ipython3",
   "version": "3.9.13"
  }
 },
 "nbformat": 4,
 "nbformat_minor": 2
}
